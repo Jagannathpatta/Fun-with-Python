{
 "cells": [
  {
   "cell_type": "markdown",
   "metadata": {},
   "source": [
    "# Web Scrapping on Flipkart.com for Laptops Data"
   ]
  },
  {
   "cell_type": "markdown",
   "metadata": {},
   "source": [
    "### Step 1: Importing all necessary libraries."
   ]
  },
  {
   "cell_type": "code",
   "execution_count": 1,
   "metadata": {},
   "outputs": [],
   "source": [
    "import requests \n",
    "import bs4\n",
    "from bs4 import BeautifulSoup\n",
    "import re\n",
    "import io"
   ]
  },
  {
   "cell_type": "markdown",
   "metadata": {},
   "source": [
    "### Step 2: Send Request for data and getting the Response."
   ]
  },
  {
   "cell_type": "code",
   "execution_count": 2,
   "metadata": {},
   "outputs": [
    {
     "name": "stdout",
     "output_type": "stream",
     "text": [
      "<Response [200]>\n"
     ]
    }
   ],
   "source": [
    "response = requests.get(\"https://www.flipkart.com/search?q=laptop&sid=6bo%2Cb5g&as=on&as-show=on&otracker=AS_QueryStore_OrganicAutoSuggest_0_3_na_na_pr&otracker1=AS_QueryStore_OrganicAutoSuggest_0_3_na_na_pr&as-pos=0&as-type=RECENT&suggestionId=laptop%7Cin+Laptops&requestId=2ef01484-77d1-4efb-a2fe-83792a72c6b4&as-backfill=on\")\n",
    "print(response)\n",
    "requests.session().close()"
   ]
  },
  {
   "cell_type": "markdown",
   "metadata": {},
   "source": [
    "### Step 3 : Getting the count for no. of times loop to be executed from no. of products we get in response."
   ]
  },
  {
   "cell_type": "code",
   "execution_count": 5,
   "metadata": {},
   "outputs": [
    {
     "name": "stdout",
     "output_type": "stream",
     "text": [
      "926\n",
      "38\n",
      "<class 'int'>\n"
     ]
    }
   ],
   "source": [
    "soup = BeautifulSoup(response.content , \"html.parser\")\n",
    "count = soup.find_all(\"span\", attrs = {\"class\":\"_2yAnYN\"})\n",
    "\n",
    "# print(count[0].getText())\n",
    "\n",
    "r = re.compile(\"[0-9]+\")\n",
    "count = (re.findall(r , count[0].getText())[-1]).split(\",\")\n",
    "s = \"\"\n",
    "count = int(s.join(count))\n",
    "print(count)                  # Total no. of products.\n",
    "count = count // 24           # Here 24 is the no. of products on per page.\n",
    "\n",
    "print(count)                  # Finally the count for loop to be executed.\n",
    "print(type(count))\n"
   ]
  },
  {
   "cell_type": "markdown",
   "metadata": {},
   "source": [
    "### Step 4: Create a .csv file to store data."
   ]
  },
  {
   "cell_type": "code",
   "execution_count": 6,
   "metadata": {},
   "outputs": [],
   "source": [
    "with io.open(\"laptopsData.csv\",\"w\",encoding=\"utf8\") as f1:\n",
    "    f1.write(\"Title,Ram,Hard_disk,Display,Operating_system,Processor,Selling_price,Cost_price,Rating,Discount\\n\")"
   ]
  },
  {
   "cell_type": "markdown",
   "metadata": {},
   "source": [
    "### Step 5: Some functions we needed to clean the data."
   ]
  },
  {
   "cell_type": "code",
   "execution_count": 7,
   "metadata": {},
   "outputs": [
    {
     "name": "stdout",
     "output_type": "stream",
     "text": [
      "57990\n",
      "Redmi 8 (Onyx Black| 64 GB)|\n"
     ]
    }
   ],
   "source": [
    "def price(str):               # this function returns a price by removing \",'s\" & \" ₹ \" this sign.\n",
    "    s = \"\"\n",
    "    l = str.split(\",\")\n",
    "    for i in l:\n",
    "        s += i\n",
    "    return s[1:]\n",
    "print(price('₹57,990'))\n",
    "\n",
    "def processors(str):          # this function returns str by replacing \",'s\" with \" | \".\n",
    "    s = \"\"\n",
    "    if ',' in str:\n",
    "        l = str.split(\",\")\n",
    "        for i in l:\n",
    "            s += i + \"|\"\n",
    "        return s\n",
    "    else:        \n",
    "        return str\n",
    "print(processors('Redmi 8 (Onyx Black, 64 GB)'))"
   ]
  },
  {
   "cell_type": "markdown",
   "metadata": {},
   "source": [
    "### Step 6: Final stage of storeing data into the csv file."
   ]
  },
  {
   "cell_type": "code",
   "execution_count": 9,
   "metadata": {},
   "outputs": [
    {
     "name": "stdout",
     "output_type": "stream",
     "text": [
      "done\n"
     ]
    }
   ],
   "source": [
    "\n",
    "for i in range (count + 1):\n",
    "    i += 1\n",
    "    url1 = \"https://www.flipkart.com/search?q=laptop&sid=6bo%2Cb5g&as=on&as-show=on&otracker=AS_QueryStore_OrganicAutoSuggest_0_3_na_na_pr&otracker1=AS_QueryStore_OrganicAutoSuggest_0_3_na_na_pr&as-pos=0&as-type=RECENT&suggestionId=laptop%7Cin+Laptops&requestId=2ef01484-77d1-4efb-a2fe-83792a72c6b4&as-backfill=on&page=\"\n",
    "    url1 += str(i)\n",
    "    resp = requests.get(url1)\n",
    "    requests.session().close()\n",
    "    readfull = BeautifulSoup(resp.content , \"html.parser\")\n",
    "\n",
    "\n",
    "    cards = readfull.find_all(\"div\",attrs={\"class\":\"_1UoZlX\"})\n",
    "    for card in cards:\n",
    "        disp = \"\"\n",
    "        proc =\"\"\n",
    "        os =\"\"\n",
    "        ram = \"\"\n",
    "        hd =\"\"\n",
    "        discount =\"\"\n",
    "        title = card.find(\"div\", attrs={\"class\":\"_3wU53n\"}).getText()\n",
    "        Selling_price = card.find(\"div\",attrs={\"class\":\"_2rQ-NK\"}).getText()\n",
    "        Cost_price = card.find(\"div\",attrs={\"class\":\"_2GcJzG\"})\n",
    "        discount = card.find(\"div\",attrs={\"class\":\"VGWI6T\"})\n",
    "        if Cost_price == None:\n",
    "            Cost_price = Selling_price\n",
    "        else:\n",
    "            Cost_price = Cost_price.getText()\n",
    "        rating = card.find(\"div\",attrs={\"class\":\"hGSR34\"})\n",
    "        if rating == None:\n",
    "            rating = \"\"\n",
    "        else:\n",
    "            rating = rating.getText()\n",
    "\n",
    "        if discount == None:\n",
    "            discount = \"\"\n",
    "        else:\n",
    "            discount = discount.getText()\n",
    "            \n",
    "        j = card.find(\"ul\", attrs = {\"class\":\"vFw0gD\"})\n",
    "        specs = j.find_all(\"li\",attrs = {\"class\":\"tVe95H\"})\n",
    "        for k in specs:\n",
    "            if k.getText().split(\" \")[-1] == \"Display\":\n",
    "                disp = k.getText()\n",
    "            elif k.getText().split(\" \")[-1] == \"Processor\" or \"Processor\" in k.getText().split(\" \") :\n",
    "                proc = k.getText()\n",
    "            elif k.getText().split(\" \")[-1] == \"RAM\":\n",
    "                ram = k.getText()\n",
    "            elif k.getText().split(\" \")[-1] == \"System\":\n",
    "                os = k.getText()\n",
    "            elif k.getText().split(\" \")[-1] == \"HDD\" or k.getText().split(\" \")[-1] == \"SSD\":\n",
    "                hd = k.getText()\n",
    "#         \"Title,Ram,Hard_disk,Display,Operating_system,Processor,Selling_price,Cost_price,Rating,Discount\\n\"\n",
    "        data=title +\",\"+ ram +\",\"+ hd +\",\"+ disp +\",\"+ os +\",\"+ proc +\",\"+ price(Selling_price) +\",\"+ price(Cost_price) +\",\"+ rating +\",\"+ discount +\"\\n\"\n",
    "        with io.open(\"laptopsData.csv\",\"a\",encoding=\"utf8\") as f1:\n",
    "            f1.write(data)\n",
    "#         print(disp,proc,os,ram,hd,sep=\" : \")\n",
    "\n",
    "#         print(title , Selling_price , Cost_price , rating , discount , sep=\":\")\n",
    "print(\"done\")        "
   ]
  },
  {
   "cell_type": "code",
   "execution_count": 10,
   "metadata": {},
   "outputs": [
    {
     "data": {
      "text/html": [
       "<div>\n",
       "<style scoped>\n",
       "    .dataframe tbody tr th:only-of-type {\n",
       "        vertical-align: middle;\n",
       "    }\n",
       "\n",
       "    .dataframe tbody tr th {\n",
       "        vertical-align: top;\n",
       "    }\n",
       "\n",
       "    .dataframe thead th {\n",
       "        text-align: right;\n",
       "    }\n",
       "</style>\n",
       "<table border=\"1\" class=\"dataframe\">\n",
       "  <thead>\n",
       "    <tr style=\"text-align: right;\">\n",
       "      <th></th>\n",
       "      <th>Title</th>\n",
       "      <th>Ram</th>\n",
       "      <th>Hard_disk</th>\n",
       "      <th>Display</th>\n",
       "      <th>Operating_system</th>\n",
       "      <th>Processor</th>\n",
       "      <th>Selling_price</th>\n",
       "      <th>Cost_price</th>\n",
       "      <th>Rating</th>\n",
       "      <th>Discount</th>\n",
       "    </tr>\n",
       "  </thead>\n",
       "  <tbody>\n",
       "    <tr>\n",
       "      <th>0</th>\n",
       "      <td>HP 14q APU Dual Core A9 - (4 GB/256 GB SSD/Win...</td>\n",
       "      <td>4 GB DDR4 RAM</td>\n",
       "      <td>256 GB SSD</td>\n",
       "      <td>35.56 cm (14 inch) Display</td>\n",
       "      <td>64 bit Windows 10 Operating System</td>\n",
       "      <td>AMD APU Dual Core A9 Processor</td>\n",
       "      <td>19990</td>\n",
       "      <td>24426</td>\n",
       "      <td>4.1</td>\n",
       "      <td>18% off</td>\n",
       "    </tr>\n",
       "    <tr>\n",
       "      <th>1</th>\n",
       "      <td>Lenovo Ideapad 130 Core i3 7th Gen - (4 GB/1 T...</td>\n",
       "      <td>4 GB DDR4 RAM</td>\n",
       "      <td>1 TB HDD</td>\n",
       "      <td>39.62 cm (15.6 inch) Display</td>\n",
       "      <td>64 bit Windows 10 Operating System</td>\n",
       "      <td>Intel Core i3 Processor (7th Gen)</td>\n",
       "      <td>26990</td>\n",
       "      <td>33040</td>\n",
       "      <td>4.0</td>\n",
       "      <td>18% off</td>\n",
       "    </tr>\n",
       "    <tr>\n",
       "      <th>2</th>\n",
       "      <td>HP 15q APU Dual Core A9 - (4 GB/1 TB HDD/Windo...</td>\n",
       "      <td>4 GB DDR4 RAM</td>\n",
       "      <td>1 TB HDD</td>\n",
       "      <td>39.62 cm (15.6 inch) Display</td>\n",
       "      <td>64 bit Windows 10 Operating System</td>\n",
       "      <td>AMD APU Dual Core A9 Processor</td>\n",
       "      <td>22990</td>\n",
       "      <td>27451</td>\n",
       "      <td>4.1</td>\n",
       "      <td>16% off</td>\n",
       "    </tr>\n",
       "    <tr>\n",
       "      <th>3</th>\n",
       "      <td>MSI Modern 14 Core i5 10th Gen - (8 GB/512 GB ...</td>\n",
       "      <td>8 GB DDR4 RAM</td>\n",
       "      <td>512 GB SSD</td>\n",
       "      <td>35.56 cm (14 inch) Display</td>\n",
       "      <td>64 bit Windows 10 Operating System</td>\n",
       "      <td>Intel Core i5 Processor (10th Gen)</td>\n",
       "      <td>49990</td>\n",
       "      <td>69990</td>\n",
       "      <td>4.6</td>\n",
       "      <td>28% off</td>\n",
       "    </tr>\n",
       "    <tr>\n",
       "      <th>4</th>\n",
       "      <td>Apple MacBook Air Core i5 5th Gen - (8 GB/128 ...</td>\n",
       "      <td>8 GB DDR3 RAM</td>\n",
       "      <td>128 GB SSD</td>\n",
       "      <td>33.78 cm (13.3 inch) Display</td>\n",
       "      <td>64 bit Mac OS Operating System</td>\n",
       "      <td>Intel Core i5 Processor (5th Gen)</td>\n",
       "      <td>64990</td>\n",
       "      <td>84900</td>\n",
       "      <td>4.7</td>\n",
       "      <td>23% off</td>\n",
       "    </tr>\n",
       "  </tbody>\n",
       "</table>\n",
       "</div>"
      ],
      "text/plain": [
       "                                               Title            Ram  \\\n",
       "0  HP 14q APU Dual Core A9 - (4 GB/256 GB SSD/Win...  4 GB DDR4 RAM   \n",
       "1  Lenovo Ideapad 130 Core i3 7th Gen - (4 GB/1 T...  4 GB DDR4 RAM   \n",
       "2  HP 15q APU Dual Core A9 - (4 GB/1 TB HDD/Windo...  4 GB DDR4 RAM   \n",
       "3  MSI Modern 14 Core i5 10th Gen - (8 GB/512 GB ...  8 GB DDR4 RAM   \n",
       "4  Apple MacBook Air Core i5 5th Gen - (8 GB/128 ...  8 GB DDR3 RAM   \n",
       "\n",
       "    Hard_disk                       Display  \\\n",
       "0  256 GB SSD    35.56 cm (14 inch) Display   \n",
       "1    1 TB HDD  39.62 cm (15.6 inch) Display   \n",
       "2    1 TB HDD  39.62 cm (15.6 inch) Display   \n",
       "3  512 GB SSD    35.56 cm (14 inch) Display   \n",
       "4  128 GB SSD  33.78 cm (13.3 inch) Display   \n",
       "\n",
       "                     Operating_system                           Processor  \\\n",
       "0  64 bit Windows 10 Operating System      AMD APU Dual Core A9 Processor   \n",
       "1  64 bit Windows 10 Operating System   Intel Core i3 Processor (7th Gen)   \n",
       "2  64 bit Windows 10 Operating System      AMD APU Dual Core A9 Processor   \n",
       "3  64 bit Windows 10 Operating System  Intel Core i5 Processor (10th Gen)   \n",
       "4      64 bit Mac OS Operating System   Intel Core i5 Processor (5th Gen)   \n",
       "\n",
       "   Selling_price  Cost_price  Rating Discount  \n",
       "0          19990       24426     4.1  18% off  \n",
       "1          26990       33040     4.0  18% off  \n",
       "2          22990       27451     4.1  16% off  \n",
       "3          49990       69990     4.6  28% off  \n",
       "4          64990       84900     4.7  23% off  "
      ]
     },
     "execution_count": 10,
     "metadata": {},
     "output_type": "execute_result"
    }
   ],
   "source": [
    "import pandas as pd\n",
    "df = pd.read_csv('laptopsData.csv')\n",
    "df.head()"
   ]
  },
  {
   "cell_type": "code",
   "execution_count": null,
   "metadata": {},
   "outputs": [],
   "source": [
    "data = pd.read_csv('')"
   ]
  }
 ],
 "metadata": {
  "kernelspec": {
   "display_name": "Python 3",
   "language": "python",
   "name": "python3"
  },
  "language_info": {
   "codemirror_mode": {
    "name": "ipython",
    "version": 3
   },
   "file_extension": ".py",
   "mimetype": "text/x-python",
   "name": "python",
   "nbconvert_exporter": "python",
   "pygments_lexer": "ipython3",
   "version": "3.7.0"
  }
 },
 "nbformat": 4,
 "nbformat_minor": 2
}
