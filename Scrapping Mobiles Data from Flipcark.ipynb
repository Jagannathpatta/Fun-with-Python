{
 "cells": [
  {
   "cell_type": "markdown",
   "metadata": {},
   "source": [
    "# Web Scrapping on Flipcart.com for Mobile Data"
   ]
  },
  {
   "cell_type": "markdown",
   "metadata": {},
   "source": [
    "### Step 1: Importing all necessary libraries."
   ]
  },
  {
   "cell_type": "code",
   "execution_count": 7,
   "metadata": {},
   "outputs": [],
   "source": [
    "import requests \n",
    "import bs4\n",
    "from bs4 import BeautifulSoup\n",
    "import re\n",
    "import io"
   ]
  },
  {
   "cell_type": "markdown",
   "metadata": {},
   "source": [
    "### Step 2: Send Request for data and getting the Response."
   ]
  },
  {
   "cell_type": "code",
   "execution_count": 2,
   "metadata": {},
   "outputs": [
    {
     "name": "stdout",
     "output_type": "stream",
     "text": [
      "<Response [200]>\n"
     ]
    }
   ],
   "source": [
    "response = requests.get(\"https://www.flipkart.com/search?q=mobiles&otracker=search&otracker1=search&marketplace=FLIPKART&as-show=on&as=off\")\n",
    "print(response)\n",
    "requests.session().close() # if the output of this step is other than <Response [200]> so something went wrong."
   ]
  },
  {
   "cell_type": "markdown",
   "metadata": {},
   "source": [
    "### Step 3 : Getting the count for no. of times loop to be executed from no. of products we get in response."
   ]
  },
  {
   "cell_type": "code",
   "execution_count": 5,
   "metadata": {},
   "outputs": [
    {
     "name": "stdout",
     "output_type": "stream",
     "text": [
      "11066\n",
      "461\n",
      "<class 'int'>\n"
     ]
    }
   ],
   "source": [
    "soup = BeautifulSoup(response.content , \"html.parser\")\n",
    "count = soup.find_all(\"span\", attrs = {\"class\":\"_2yAnYN\"})\n",
    "\n",
    "r = re.compile(\"[0-9]+,[0-9]+\")\n",
    "count = (re.findall(r , count[0].getText())[0]).split(\",\")\n",
    "s = \"\"\n",
    "count = int(s.join(count))\n",
    "print(count)                  # Total no. of products.\n",
    "count = count // 24           # Here 24 is the no. of products on per page.\n",
    "\n",
    "print(count)                  # Finally the count for loop to be executed.\n",
    "print(type(count))"
   ]
  },
  {
   "cell_type": "markdown",
   "metadata": {},
   "source": [
    "### Step 4: Create a .csv file to store data."
   ]
  },
  {
   "cell_type": "code",
   "execution_count": 10,
   "metadata": {},
   "outputs": [],
   "source": [
    "with io.open(\"MobileData.csv\",\"w\",encoding=\"utf8\") as f1:\n",
    "    f1.write(\"Title,Memory,Display,Camera,Battery,Processor,Selling_price,Cost_price,Rating,Discount\\n\")"
   ]
  },
  {
   "cell_type": "markdown",
   "metadata": {},
   "source": [
    "### Step 5: Some functions we needed to clean the data."
   ]
  },
  {
   "cell_type": "code",
   "execution_count": 13,
   "metadata": {},
   "outputs": [
    {
     "name": "stdout",
     "output_type": "stream",
     "text": [
      "57990\n",
      "Redmi 8 (Onyx Black| 64 GB)|\n"
     ]
    }
   ],
   "source": [
    "def price(str):               # this function returns a price by removing \",'s\" & \" ₹ \" this sign.\n",
    "    s = \"\"\n",
    "    l = str.split(\",\")\n",
    "    for i in l:\n",
    "        s += i\n",
    "    return s[1:]\n",
    "print(price('₹57,990'))\n",
    "\n",
    "def processors(str):          # this function returns str by replacing \",'s\" with \" | \".\n",
    "    s = \"\"\n",
    "    if ',' in str:\n",
    "        l = str.split(\",\")\n",
    "        for i in l:\n",
    "            s += i + \"|\"\n",
    "        return s\n",
    "    else:        \n",
    "        return str\n",
    "print(processors('Redmi 8 (Onyx Black, 64 GB)'))"
   ]
  },
  {
   "cell_type": "markdown",
   "metadata": {},
   "source": [
    "### Step 6: Final stage of storeing data into the csv file."
   ]
  },
  {
   "cell_type": "code",
   "execution_count": 11,
   "metadata": {},
   "outputs": [
    {
     "name": "stdout",
     "output_type": "stream",
     "text": [
      "done\n"
     ]
    }
   ],
   "source": [
    "\n",
    "for i in range (count + 1):\n",
    "    i += 1\n",
    "    url1 = \"https://www.flipkart.com/search?q=mobiles&otracker=search&otracker1=search&marketplace=FLIPKART&as-show=on&as=off&page=\"\n",
    "    url1 += str(i)                    # Adding the page no. to the URL at the end.\n",
    "    resp = requests.get(url1)         # requesting the data to URL and storing the response.\n",
    "    requests.session().close()        # closeing the session.\n",
    "    readfull = BeautifulSoup(resp.content , \"html.parser\")  #parseing the response data into html.\n",
    "\n",
    "    cards = readfull.find_all(\"div\",attrs={\"class\":\"_1UoZlX\"})  #list of products on the page.\n",
    "    for card in cards:                # Looping through each product.\n",
    "        disp = \"\"\n",
    "        proc =\"\"\n",
    "        memo =\"\"\n",
    "        cam = \"\"\n",
    "        battery =\"\"\n",
    "        discount =\"\"\n",
    "        title = card.find(\"div\", attrs={\"class\":\"_3wU53n\"}).getText()\n",
    "        Selling_price = card.find(\"div\",attrs={\"class\":\"_2rQ-NK\"}).getText()\n",
    "        Cost_price = card.find(\"div\",attrs={\"class\":\"_2GcJzG\"})\n",
    "        discount = card.find(\"div\",attrs={\"class\":\"VGWI6T\"})\n",
    "        if Cost_price == None:\n",
    "            Cost_price = Selling_price\n",
    "        else:\n",
    "            Cost_price = Cost_price.getText()\n",
    "        rating = card.find(\"div\",attrs={\"class\":\"hGSR34\"})\n",
    "        if rating == None:\n",
    "            rating = \"\"\n",
    "        else:\n",
    "            rating = rating.getText()\n",
    "\n",
    "        if discount == None:\n",
    "            discount = \"\"\n",
    "        else:\n",
    "            discount = discount.getText()\n",
    "            \n",
    "        j = card.find(\"ul\", attrs = {\"class\":\"vFw0gD\"})\n",
    "\n",
    "        specs = j.find_all(\"li\",attrs = {\"class\":\"tVe95H\"}) # list of Features of a product\n",
    "        memo = specs[0].getText()\n",
    "        for k in specs:                          # looping through each feature in features of a product.\n",
    "            if k.getText().split(\" \")[-1] == \"Display\":\n",
    "                disp = k.getText()\n",
    "            elif k.getText().split(\" \")[-1] == \"Processor\" or \"Processor\" in k.getText().split(\" \") :\n",
    "                proc = k.getText()\n",
    "            elif k.getText().split(\" \")[-1] == \"Camera\":\n",
    "                cam = k.getText()\n",
    "            elif k.getText().split(\" \")[-1] == \"Battery\":\n",
    "                battery = k.getText()\n",
    "\n",
    "        # Storeing the all the features into a variable data.\n",
    "        data = processors(title) +\",\"+ memo +\",\"+ processors(disp) +\",\"+ processors(cam) +\",\"+ processors(battery) +\",\"+ processors(proc) +\",\"+ price(Selling_price) +\",\"+ price(Cost_price) +\",\"+ rating +\",\"+ discount +\"\\n\"\n",
    "        \n",
    "        with io.open(\"MobileData.csv\",\"a\",encoding=\"utf8\") as f1:\n",
    "            f1.write(data)  # appending the data into the csv file.\n",
    "\n",
    "print(\"done\")        "
   ]
  },
  {
   "cell_type": "markdown",
   "metadata": {},
   "source": [
    "### Note : Please wait for a while after executing the Step 6 it takes some time to retrive and store data to the file, wait untill the done msg in output or an error."
   ]
  }
 ],
 "metadata": {
  "kernelspec": {
   "display_name": "Python 3",
   "language": "python",
   "name": "python3"
  },
  "language_info": {
   "codemirror_mode": {
    "name": "ipython",
    "version": 3
   },
   "file_extension": ".py",
   "mimetype": "text/x-python",
   "name": "python",
   "nbconvert_exporter": "python",
   "pygments_lexer": "ipython3",
   "version": "3.7.0"
  }
 },
 "nbformat": 4,
 "nbformat_minor": 2
}
